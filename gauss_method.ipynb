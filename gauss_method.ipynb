{
 "cells": [
  {
   "cell_type": "code",
   "execution_count": 14,
   "id": "dd574dad-1384-4727-8f26-90352d7d1ee4",
   "metadata": {},
   "outputs": [],
   "source": [
    "import numpy as np\n",
    "import copy"
   ]
  },
  {
   "cell_type": "markdown",
   "id": "09ff360b-ee3f-40df-b090-3a997ecad03c",
   "metadata": {},
   "source": [
    "$A x = b$, де $х$ невідоме"
   ]
  },
  {
   "cell_type": "code",
   "execution_count": 15,
   "id": "bd62404d-ffb2-4f17-ac92-630778560cf2",
   "metadata": {},
   "outputs": [],
   "source": [
    "A = [[1, 1, 2], \n",
    "     [1, 1, 7], \n",
    "     [2,  1, 6]]\n",
    "b = [2,1,1]\n",
    "A = np.asarray(A, dtype=np.float64)\n",
    "b = np.asarray(b, dtype=np.float64)"
   ]
  },
  {
   "cell_type": "code",
   "execution_count": 16,
   "id": "2f91d510",
   "metadata": {},
   "outputs": [],
   "source": [
    "#np.linalg.solve(A, b) # Розв'язок"
   ]
  },
  {
   "cell_type": "code",
   "execution_count": 17,
   "id": "be08459d",
   "metadata": {},
   "outputs": [
    {
     "data": {
      "text/plain": [
       "4.999999999999999"
      ]
     },
     "execution_count": 17,
     "metadata": {},
     "output_type": "execute_result"
    }
   ],
   "source": [
    "np.linalg.det(A) # Визначник"
   ]
  },
  {
   "cell_type": "code",
   "execution_count": 18,
   "id": "07843cd9",
   "metadata": {},
   "outputs": [
    {
     "data": {
      "text/plain": [
       "array([[-0.2, -0.8,  1. ],\n",
       "       [ 1.6,  0.4, -1. ],\n",
       "       [-0.2,  0.2, -0. ]])"
      ]
     },
     "execution_count": 18,
     "metadata": {},
     "output_type": "execute_result"
    }
   ],
   "source": [
    "np.linalg.inv(A) # Обернена матриця"
   ]
  },
  {
   "cell_type": "code",
   "execution_count": 19,
   "id": "0b6836ab-a436-476f-ae12-997d6368c91c",
   "metadata": {},
   "outputs": [],
   "source": [
    "\n",
    "EPS = 0.001"
   ]
  },
  {
   "cell_type": "code",
   "execution_count": 20,
   "id": "fc8ca002-f93c-48b3-bf4c-63decb9c64f4",
   "metadata": {},
   "outputs": [],
   "source": [
    "def gauss_solver(A, b):\n",
    "\n",
    "    for i in range(len(A)):\n",
    "        if abs(A[i,i]) < EPS:\n",
    "            for t in range(i+1, len(A)):\n",
    "                ati = A[t,i]\n",
    "                if abs(ati) > EPS:\n",
    "                    temp_row = A[i,:].copy()\n",
    "                    A[i,:] = A[t,:]\n",
    "                    A[t,:] = temp_row\n",
    "\n",
    "                    temp_b = b[i]\n",
    "                    b[i] = b[t]\n",
    "                    b[t] = temp_b\n",
    "        \n",
    "        aii = A[i,i]\n",
    "        A[i,:] /= aii\n",
    "        b[i] /= aii\n",
    "        for j in range(i+1, len(A)):\n",
    "            aji = A[j,i]\n",
    "            A[j,:] = A[j,:] - aji * A[i, :]\n",
    "            b[j] = b[j] - aji * b[i]\n",
    "\n",
    "    for i in reversed(range(0, len(A)-1)):\n",
    "        bi = b[i+1]\n",
    "        for j in range(0, i+1):\n",
    "            b[j] -= A[j,i+1] * bi\n",
    "            A[j,i+1] = 0\n",
    "    return b\n"
   ]
  },
  {
   "cell_type": "code",
   "execution_count": 21,
   "id": "0e62979f-729a-4851-84c1-6cccf0939721",
   "metadata": {},
   "outputs": [],
   "source": [
    "x = gauss_solver(A.copy(), b.copy())"
   ]
  },
  {
   "cell_type": "code",
   "execution_count": 22,
   "id": "f03a61ea",
   "metadata": {},
   "outputs": [
    {
     "data": {
      "text/plain": [
       "array([-0.2,  2.6, -0.2])"
      ]
     },
     "execution_count": 22,
     "metadata": {},
     "output_type": "execute_result"
    }
   ],
   "source": [
    "x"
   ]
  },
  {
   "cell_type": "code",
   "execution_count": 23,
   "id": "b3c2ce12",
   "metadata": {},
   "outputs": [
    {
     "data": {
      "text/plain": [
       "4.965068306494546e-16"
      ]
     },
     "execution_count": 23,
     "metadata": {},
     "output_type": "execute_result"
    }
   ],
   "source": [
    "np.linalg.norm(A.dot(x) - b)"
   ]
  },
  {
   "cell_type": "markdown",
   "id": "e53cb189",
   "metadata": {},
   "source": [
    "ОБЧИСЛ ВИЗНАЧНИК"
   ]
  },
  {
   "cell_type": "code",
   "execution_count": 24,
   "id": "0f675fc7",
   "metadata": {},
   "outputs": [
    {
     "data": {
      "text/plain": [
       "5.0"
      ]
     },
     "execution_count": 24,
     "metadata": {},
     "output_type": "execute_result"
    }
   ],
   "source": [
    "def determinant(matrix):\n",
    "    # Base case: If the matrix is 1x1, return the single element as the determinant.\n",
    "    if len(matrix) == 1 and len(matrix[0]) == 1:\n",
    "        return matrix[0][0]\n",
    "    \n",
    "    if len(matrix) == 2 and len(matrix[0]) == 2:\n",
    "        return matrix[0][0]*matrix[1][1] - matrix[0][1]*matrix[1][0]\n",
    "\n",
    "    # Initialize the determinant to 0.\n",
    "    det = 0\n",
    "\n",
    "   \n",
    "\n",
    "    for col in range(len(matrix[0])): # Iterate through the first row of the matrix \n",
    "        # Calculate the cofactor of the current element (matrix[0][col]).\n",
    "        cofactor = matrix[0][col] * determinant(get_submatrix(matrix, 0, col))#multiply element on det of smaller matrix\n",
    "        # Add or subtract the cofactor based on the column index.\n",
    "        if col % 2 == 0:\n",
    "            det += cofactor\n",
    "        else:\n",
    "            det -= cofactor\n",
    "\n",
    "    return det\n",
    "\n",
    "def get_submatrix(matrix, row_to_exclude, col_to_exclude):\n",
    "    # Create a submatrix by excluding the specified row and column.\n",
    "\n",
    "    return [[matrix[i][j] for j in range(len(matrix[i])) if j != col_to_exclude] for i in range(len(matrix)) if i != row_to_exclude]\n",
    "\n",
    "det = determinant(A.copy())\n",
    "det"
   ]
  },
  {
   "cell_type": "markdown",
   "id": "e0a3e2ae",
   "metadata": {},
   "source": [
    "ОБЧИСЛ ОБЕРНЕНУ"
   ]
  },
  {
   "cell_type": "code",
   "execution_count": 25,
   "id": "6db264b0",
   "metadata": {},
   "outputs": [
    {
     "name": "stdout",
     "output_type": "stream",
     "text": [
      "None\n"
     ]
    }
   ],
   "source": [
    "def inverse_matrix(matrix):\n",
    "    n = len(matrix)\n",
    "    augmented_matrix = np.hstack((matrix, np.identity(n)))# combine our matrix and matrix with 1 on diagonal\n",
    "\n",
    "    # Forward elimination\n",
    "    for i in range(n): #: iterates through each row of the augmented matrix.\n",
    "        pivot = augmented_matrix[i][i]#select diagonal element\n",
    "        if pivot == 0: # if pivot ==0 then matrix is singular \n",
    "            return None  # Matrix is singular\n",
    "        augmented_matrix[i] = augmented_matrix[i] / pivot #normalizes the current row by dividing the entire row by the pivot element\n",
    "        for j in range(n):\n",
    "            if i != j: # don't perform action on the row we did earlier\n",
    "                factor = augmented_matrix[j][i]# calculates the factor by which the current row should be multiplied to eliminate the non-zero element in the current column\n",
    "                augmented_matrix[j] -= factor * augmented_matrix[i]#subtraction ensures that the element in the current column (except the pivot element) becomes zero\n",
    "\n",
    "    # Extract the inverse from the augmented matrix\n",
    "    inverse = augmented_matrix[:, n:] # remove right part of matrix (augmented)\n",
    "    \n",
    "    return inverse\n",
    "\n",
    "x = inverse_matrix(A.copy())\n",
    "print(x)\n",
    "\n",
    "\n"
   ]
  }
 ],
 "metadata": {
  "kernelspec": {
   "display_name": "Python 3 (ipykernel)",
   "language": "python",
   "name": "python3"
  },
  "language_info": {
   "codemirror_mode": {
    "name": "ipython",
    "version": 3
   },
   "file_extension": ".py",
   "mimetype": "text/x-python",
   "name": "python",
   "nbconvert_exporter": "python",
   "pygments_lexer": "ipython3",
   "version": "3.11.5"
  }
 },
 "nbformat": 4,
 "nbformat_minor": 5
}
